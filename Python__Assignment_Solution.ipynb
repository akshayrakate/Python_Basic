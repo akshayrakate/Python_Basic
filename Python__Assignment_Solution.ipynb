{
  "cells": [
    {
      "cell_type": "markdown",
      "metadata": {
        "id": "l0ZzOlyxB-kf"
      },
      "source": [
        "<h1>Python: without numpy or sklearn </h1>"
      ]
    },
    {
      "cell_type": "markdown",
      "metadata": {
        "id": "C0xO8JV9B-ki"
      },
      "source": [
        "<h3> Q1: Given two matrices please print the product of those two matrices </h3>\n",
        "<pre>\n",
        "\n",
        "Ex 1: A   = [[1 3 4]\n",
        "             [2 5 7]\n",
        "             [5 9 6]]\n",
        "      B   = [[1 0 0]\n",
        "             [0 1 0]\n",
        "             [0 0 1]]\n",
        "      A*B = [[1 3 4]\n",
        "             [2 5 7]\n",
        "             [5 9 6]]\n",
        "\n",
        "     \n",
        "Ex 2: A   = [[1 2]\n",
        "             [3 4]]\n",
        "      B   = [[1 2 3 4 5]\n",
        "             [5 6 7 8 9]]\n",
        "      A*B = [[11 14 17 20 23]\n",
        "             [23 30 36 42 51]]\n",
        "             \n",
        "Ex 3: A   = [[1 2]\n",
        "             [3 4]]\n",
        "      B   = [[1 4]\n",
        "             [5 6]\n",
        "             [7 8]\n",
        "             [9 6]]\n",
        "      A*B =Not possible\n",
        "</pre>"
      ]
    },
    {
      "cell_type": "code",
      "execution_count": null,
      "metadata": {
        "colab": {
          "base_uri": "https://localhost:8080/"
        },
        "id": "rnssAfpgB-kj",
        "outputId": "f70bbb23-50a2-456f-9101-518a6421e68a"
      },
      "outputs": [
        {
          "data": {
            "text/plain": [
              "[[11, 14, 17, 20, 23], [23, 30, 37, 44, 51]]"
            ]
          },
          "execution_count": 32,
          "metadata": {},
          "output_type": "execute_result"
        }
      ],
      "source": [
        "def matrix_mul(a,b):\n",
        "\n",
        "  #shape of Mat_1\n",
        "  row1=len(a)\n",
        "  col1=len(a[0])\n",
        "\n",
        "  #shape of Mat_2\n",
        "  row2=len(b)\n",
        "  col2=len(b[0])\n",
        "\n",
        "    #if condition for matrix multiplication is True\n",
        "  if col1==row2:\n",
        "    result = [[0 for x in range(col2)] for y in range(row1)]\n",
        "    for i in range (row1):\n",
        "      for j in range (col2):\n",
        "        for k in range(row2):\n",
        "          result[i][j] += a[i][k] * b[k][j] \n",
        "          \n",
        "    return result\n",
        "\n",
        "    #if condition for matrix multiplication is False\n",
        "  else:\n",
        "    print(\"Matrix Multiplication is not Possible\")\n",
        "\n",
        "a  = [[1 ,2],\n",
        "      [3 ,4]]\n",
        "b   = [[1 ,2, 3, 4, 5],\n",
        "      [5 ,6 ,7, 8, 9]]      \n",
        "     \n",
        "matrix_mul(a,b) "
      ]
    },
    {
      "cell_type": "markdown",
      "metadata": {
        "id": "at4VwLggB-kn"
      },
      "source": [
        "<h3> Q2: Select a number randomly with probability proportional to its magnitude from the given array of n elements</h3>\n",
        "\n",
        "consider an experiment, selecting an element from the list A randomly with probability proportional to its magnitude.\n",
        "assume we are doing the same experiment for 100 times with replacement, in each experiment you will print a number that is selected randomly from A.\n",
        "\n",
        "<pre>\n",
        "Ex 1: A = [0 5 27 6 13 28 100 45 10 79]\n",
        "let f(x) denote the number of times x getting selected in 100 experiments.\n",
        "f(100) > f(79) > f(45) > f(28) > f(27) > f(13) > f(10) > f(6) > f(5) > f(0)\n",
        "</pre>"
      ]
    },
    {
      "cell_type": "code",
      "execution_count": 14,
      "metadata": {
        "id": "B6S2dpBhB-kn",
        "colab": {
          "base_uri": "https://localhost:8080/"
        },
        "outputId": "027917ee-3953-476e-ab46-4b99abf876fb"
      },
      "outputs": [
        {
          "output_type": "stream",
          "name": "stdout",
          "text": [
            "100\n",
            "79\n",
            "100\n",
            "45\n",
            "79\n",
            "100\n",
            "6\n",
            "100\n",
            "79\n",
            "27\n",
            "45\n",
            "79\n",
            "79\n",
            "27\n",
            "79\n",
            "45\n",
            "79\n",
            "79\n",
            "27\n",
            "79\n",
            "100\n",
            "45\n",
            "45\n",
            "13\n",
            "79\n",
            "79\n",
            "45\n",
            "100\n",
            "79\n",
            "45\n",
            "5\n",
            "27\n",
            "45\n",
            "27\n",
            "27\n",
            "13\n",
            "28\n",
            "28\n",
            "100\n",
            "79\n",
            "79\n",
            "79\n",
            "28\n",
            "100\n",
            "79\n",
            "100\n",
            "28\n",
            "100\n",
            "5\n",
            "45\n",
            "100\n",
            "79\n",
            "27\n",
            "27\n",
            "45\n",
            "100\n",
            "79\n",
            "100\n",
            "79\n",
            "13\n",
            "5\n",
            "27\n",
            "100\n",
            "10\n",
            "79\n",
            "27\n",
            "79\n",
            "28\n",
            "79\n",
            "45\n",
            "5\n",
            "79\n",
            "100\n",
            "45\n",
            "100\n",
            "45\n",
            "79\n",
            "45\n",
            "27\n",
            "45\n",
            "79\n",
            "13\n",
            "13\n",
            "100\n",
            "79\n",
            "79\n",
            "100\n",
            "79\n",
            "79\n",
            "100\n",
            "79\n",
            "100\n",
            "13\n",
            "45\n",
            "79\n",
            "27\n",
            "100\n",
            "28\n",
            "79\n"
          ]
        }
      ],
      "source": [
        "from random import uniform\n",
        "\n",
        "a = [0, 5 ,27 ,6 ,13, 28 ,100, 45 ,10 ,79]\n",
        "\n",
        "def pick_a_number_from_list(a):\n",
        "    p=uniform(0,1)\n",
        "    s=sum(a)\n",
        "\n",
        "    #calculating weightage of each number in list\n",
        "    prop = []\n",
        "    for i in range(len(a)):\n",
        "        prop.append(a[i]/s)\n",
        "        # print(prop)\n",
        "\n",
        "    #cumulative sum of proportions\n",
        "    c=[]\n",
        "    for i in range(0,len(a)):\n",
        "        c.append(sum(prop[0:(i+1)]))\n",
        "\n",
        "    #number extracter as per uniform probablity\n",
        "    for j in range(0,len(a)):\n",
        "        if p<=c[j]:\n",
        "            number=a[j]\n",
        "            return number\n",
        "    \n",
        "def sampling_based_on_magnitued():\n",
        "    for i in range(1,100):\n",
        "        number = pick_a_number_from_list(a)\n",
        "        print(number)\n",
        "\n",
        "sampling_based_on_magnitued()"
      ]
    },
    {
      "cell_type": "markdown",
      "metadata": {
        "id": "D1xQy2WWB-kq"
      },
      "source": [
        "<h3> Q3: Replace the digits in the string with #</h3>\n",
        "\n",
        "consider a string that will have digits in that, we need to remove all the not digits and replace the digits with #\n",
        "<pre>\n",
        "Ex 1: A = 234                Output: ###\n",
        "Ex 2: A = a2b3c4             Output: ###\n",
        "Ex 3: A = abc                Output:   (empty string)\n",
        "Ex 5: A = #2a$#b%c%561#      Output: ####\n",
        "</pre>"
      ]
    },
    {
      "cell_type": "code",
      "execution_count": 20,
      "metadata": {
        "id": "fxczi2jzB-kr",
        "colab": {
          "base_uri": "https://localhost:8080/",
          "height": 53
        },
        "outputId": "696a1205-821e-4952-eef0-8b77b9b784be"
      },
      "outputs": [
        {
          "name": "stdout",
          "output_type": "stream",
          "text": [
            "Enter the string= #2a$#b%c%561#\n"
          ]
        },
        {
          "output_type": "execute_result",
          "data": {
            "text/plain": [
              "'####'"
            ],
            "application/vnd.google.colaboratory.intrinsic+json": {
              "type": "string"
            }
          },
          "metadata": {},
          "execution_count": 20
        }
      ],
      "source": [
        "import re\n",
        "\n",
        "def replace_digits(string):\n",
        "    lst=[]\n",
        "    for ele in string:\n",
        "        if ele.isdigit():\n",
        "            lst.append('#')\n",
        "    ans=''.join(lst)\n",
        "    return ans\n",
        "\n",
        "String=input('Enter the string= ')\n",
        "\n",
        "replace_digits(String)"
      ]
    },
    {
      "cell_type": "markdown",
      "metadata": {
        "id": "j7h0Ywg7B-kw"
      },
      "source": [
        "<h3> Q4: Students marks dashboard</h3>\n",
        "\n",
        "consider the marks list of class students given two lists <br>\n",
        "Students = ['student1','student2','student3','student4','student5','student6','student7','student8','student9','student10'] <br>\n",
        "Marks = [45, 78, 12, 14, 48, 43, 45, 98, 35, 80] <br>\n",
        "from the above two lists the Student[0] got Marks[0],  Student[1] got Marks[1] and so on <br><br>\n",
        "your task is to print the name of students\n",
        "\n",
        "<strong>a. Who got top 5 ranks, in the descending order of marks</strong> <br>\n",
        "<strong>b. Who got least 5 ranks, in the increasing order of marks</strong><br>\n",
        "<strong>d. Who got marks between  &gt;25th percentile &lt;75th percentile, in the increasing order of marks</strong>\n",
        "\n",
        "<pre>\n",
        "Ex 1: \n",
        "Students=['student1','student2','student3','student4','student5','student6','student7','student8','student9','student10'] \n",
        "Marks = [45, 78, 12, 14, 48, 43, 47, 98, 35, 80]\n",
        "a. \n",
        "student8  98\n",
        "student10 80\n",
        "student2  78\n",
        "student5  48\n",
        "student7  47\n",
        "b.\n",
        "student3 12\n",
        "student4 14\n",
        "student9 35\n",
        "student6 43\n",
        "student1 45\n",
        "c.\n",
        "student9 35\n",
        "student6 43\n",
        "student1 45\n",
        "student7 47\n",
        "student5 48\n",
        "</pre>"
      ]
    },
    {
      "cell_type": "code",
      "execution_count": 16,
      "metadata": {
        "colab": {
          "base_uri": "https://localhost:8080/"
        },
        "id": "UyiFOJDfOvVo",
        "outputId": "672ca11e-c266-4d0e-e663-c249727b0612"
      },
      "outputs": [
        {
          "output_type": "stream",
          "name": "stdout",
          "text": [
            "\n",
            "a.\n",
            "student8 98\n",
            "student10 80\n",
            "student2 78\n",
            "student5 48\n",
            "student1 45\n",
            "\n",
            "b.\n",
            "student3 12\n",
            "student4 14\n",
            "student9 35\n",
            "student6 43\n",
            "student1 45\n",
            "\n",
            "c.\n",
            "student9 35\n",
            "student6 43\n",
            "student1 45\n",
            "student7 45\n",
            "student5 48\n"
          ]
        }
      ],
      "source": [
        "Students = ['student1','student2','student3','student4','student5','student6','student7','student8','student9','student10']\n",
        "Marks = [45, 78, 12, 14, 48, 43, 45, 98, 35, 80]\n",
        "\n",
        "def display_dash_board(students, marks):\n",
        "\n",
        "  #creating list of tuples(student,marks)\n",
        "  ziplist = list(zip(students,marks))\n",
        "\n",
        "  #top_5_max\n",
        "  ziplist.sort(key = lambda x:x[1],reverse=True)\n",
        "  print('\\na.')\n",
        "  for i,j in ziplist[:-5]:\n",
        "    print(i,j)\n",
        "\n",
        "  #top_5_min\n",
        "  ziplist.sort(key = lambda x:x[1],reverse=False)\n",
        "  print('\\nb.')\n",
        "  for i,j in ziplist[:-5]:\n",
        "    print(i,j)\n",
        "\n",
        "  #Students within_25_and_75\n",
        "  print('\\nc.')\n",
        "\n",
        "  #Calculating 25th and 75th percentile marks\n",
        "  mx = max(Marks)\n",
        "  mn = min(Marks)\n",
        "\n",
        "  diff = mx - mn\n",
        "\n",
        "  per_25 = diff*0.25\n",
        "  per_75 = diff*0.75\n",
        "\n",
        "  for i,j in ziplist:\n",
        "    if j < per_75 and j > per_25:\n",
        "      print(i,j)\n",
        "\n",
        "display_dash_board(Students, Marks)"
      ]
    },
    {
      "cell_type": "markdown",
      "metadata": {
        "id": "qha0OhQHB-k1"
      },
      "source": [
        "<h3> Q5: Find the closest points</h3>\n",
        "\n",
        "consider you have given n data points in the form of list of tuples like S=[(x1,y1),(x2,y2),(x3,y3),(x4,y4),(x5,y5),..,(xn,yn)] and a point P=(p,q) <br> your task is to find 5 closest points(based on cosine distance) in S from P\n",
        "<br>cosine distance between two points (x,y) and (p,q) is defind as $cos^{-1}(\\frac{(x\\cdot p+y\\cdot q)}{\\sqrt(x^2+y^2)\\cdot\\sqrt(p^2+q^2)})$\n",
        "<pre>\n",
        "Ex:\n",
        "\n",
        "S= [(1,2),(3,4),(-1,1),(6,-7),(0, 6),(-5,-8),(-1,-1)(6,0),(1,-1)]\n",
        "P= (3,-4)\n",
        "<img src='https://i.imgur.com/vIFPOcG.jpg', width=300>\n",
        "Output:\n",
        "(6,-7)\n",
        "(1,-1)\n",
        "(6,0)\n",
        "(-5,-8)\n",
        "(-1,-1)\n",
        "</pre>"
      ]
    },
    {
      "cell_type": "code",
      "execution_count": null,
      "metadata": {
        "colab": {
          "base_uri": "https://localhost:8080/"
        },
        "id": "wA5I1g-2B-k2",
        "outputId": "9b7f74de-2ba4-4642-b24e-0be353ccfd96"
      },
      "outputs": [
        {
          "name": "stdout",
          "output_type": "stream",
          "text": [
            "(6, -7)\n",
            "(1, -1)\n",
            "(6, 0)\n",
            "(-5, -8)\n",
            "(-1, -1)\n"
          ]
        }
      ],
      "source": [
        "from math import *\n",
        "S = [(1,2),(3,4),(-1,1),(6,-7),(0, 6),(-5,-8),(-1,-1),(6,0),(1,-1)]\n",
        "P = (3,-4)\n",
        "\n",
        "#we have to calculate ditance from all points in S from P\n",
        "def closest_points_to_p(S, P):\n",
        "\n",
        "  #Cosine Distance list\n",
        "  distance = []\n",
        "  for i in S:\n",
        "    x = i[0]  #x_cordinate\n",
        "    y = i[1]  #y_cordinate\n",
        "    \n",
        "    #cosine distance formula\n",
        "    d = acos((x*P[0] + y*P[1]) / (sqrt(x**2 + y**2) * (sqrt(P[0]**2 + P[1]**2))))\n",
        "    distance.append(d)\n",
        "\n",
        "  #top_5 closest points\n",
        "  ziplist = list(zip(S,distance)) \n",
        "    #sorting \n",
        "  ziplist.sort(key = lambda x:x[1],reverse=False)\n",
        "\n",
        "  return ziplist\n",
        "\n",
        "ziplist = closest_points_to_p(S,P)\n",
        "\n",
        "for i,j in ziplist[:5]:\n",
        "  print(i)"
      ]
    },
    {
      "cell_type": "markdown",
      "metadata": {
        "id": "-g11jeAiB-k5"
      },
      "source": [
        "<h3> Q6: Find Which line separates oranges and apples</h3>\n",
        "consider you have given two set of data points in the form of list of tuples like \n",
        "<pre>\n",
        "Red =[(R11,R12),(R21,R22),(R31,R32),(R41,R42),(R51,R52),..,(Rn1,Rn2)]\n",
        "Blue=[(B11,B12),(B21,B22),(B31,B32),(B41,B42),(B51,B52),..,(Bm1,Bm2)]\n",
        "</pre>\n",
        "and set of line equations(in the string formate, i.e list of strings)\n",
        "<pre>\n",
        "Lines = [a1x+b1y+c1,a2x+b2y+c2,a3x+b3y+c3,a4x+b4y+c4,..,K lines]\n",
        "Note: you need to string parsing here and get the coefficients of x,y and intercept\n",
        "</pre>\n",
        "your task is to for each line that is given print \"YES\"/\"NO\", you will print yes, if all the red points are one side of the line and blue points are other side of the line, otherwise no\n",
        "<pre>\n",
        "Ex:\n",
        "Red= [(1,1),(2,1),(4,2),(2,4), (-1,4)]\n",
        "Blue= [(-2,-1),(-1,-2),(-3,-2),(-3,-1),(1,-3)]\n",
        "Lines=[\"1x+1y+0\",\"1x-1y+0\",\"1x+0y-3\",\"0x+1y-0.5\"]\n",
        "<img src='https://i.imgur.com/DoQf7mE.jpg' width=400>\n",
        "Output:\n",
        "YES\n",
        "NO\n",
        "NO\n",
        "YES\n",
        "</pre>"
      ]
    },
    {
      "cell_type": "code",
      "execution_count": null,
      "metadata": {
        "colab": {
          "base_uri": "https://localhost:8080/"
        },
        "id": "eRxExaTRB-k6",
        "outputId": "c88b42b0-d7a1-4969-d63e-19757449c80a"
      },
      "outputs": [
        {
          "name": "stdout",
          "output_type": "stream",
          "text": [
            "Yes\n",
            "No\n",
            "No\n",
            "Yes\n"
          ]
        }
      ],
      "source": [
        "Red= [(1,1),(2,1),(4,2),(2,4), (-1,4)]\n",
        "Blue= [(-2,-1),(-1,-2),(-3,-2),(-3,-1),(1,-3)]\n",
        "Lines=[\"1x+1y+0\",\"1x-1y+0\",\"1x+0y-3\",\"0x+1y-0.5\"]\n",
        "\n",
        "from math import *\n",
        "import regex as re\n",
        "def i_am_the_one(red,blue,line):\n",
        "\n",
        "  x = re.findall('([\\d\\.+-]+)',line)\n",
        "  #chnaging to INT type\n",
        "  var = [float(i) for i in x ]\n",
        "\n",
        "  #Cosine Distance list\n",
        "  distance = []\n",
        "  x = var[0]  #x_cordinate\n",
        "  y = var[1]  #y_cordinate\n",
        "  c = var[2]  #intercept\n",
        "\n",
        "  #consider correct for RED = +1\n",
        "  r =[]\n",
        "  for p in Red:\n",
        "    d = (x*p[0] + y*p[1] + c ) / (sqrt(x**2 + y**2)) * 1\n",
        "    r.append(d) \n",
        "\n",
        "  #consider correct for Blue = -1\n",
        "  b = []\n",
        "  for p in Blue:\n",
        "    d = (x*p[0] + y*p[1] + c ) / (sqrt(x**2 + y**2)) * (-1)\n",
        "    b.append(d) \n",
        "\n",
        "  #combining RED and BLUE distance List\n",
        "  final_list = r + b\n",
        "\n",
        "  #all points should be +ve if all are correctly classified\n",
        "  if all(i > 0 for i in final_list):\n",
        "    return 'Yes'\n",
        "  else:\n",
        "    return 'No'\n",
        "\n",
        "for i in Lines:\n",
        "    yes_or_no = i_am_the_one(Red, Blue, i)\n",
        "    print(yes_or_no) # the returned value"
      ]
    },
    {
      "cell_type": "markdown",
      "metadata": {
        "id": "9OBpURbNB-k9"
      },
      "source": [
        "<h3> Q7: Filling the missing values in the specified formate</h3>\n",
        "You will be given a string with digits and '\\_'(missing value) symbols you have to replace the '\\_' symbols as explained \n",
        "<pre>\n",
        "Ex 1: _, _, _, 24 ==> 24/4, 24/4, 24/4, 24/4 i.e we. have distributed the 24 equally to all 4 places <br>\n",
        "Ex 2: 40, _, _, _, 60 ==> (60+40)/5,(60+40)/5,(60+40)/5,(60+40)/5,(60+40)/5 ==> 20, 20, 20, 20, 20 i.e. the sum of (60+40) is distributed qually to all 5 places<br>\n",
        "Ex 3: 80, _, _, _, _  ==> 80/5,80/5,80/5,80/5,80/5 ==> 16, 16, 16, 16, 16 i.e. the 80 is distributed qually to all 5 missing values that are right to it<br>\n",
        "Ex 4: _, _, 30, _, _, _, 50, _, _  \n",
        "==> we will fill the missing values from left to right \n",
        "    a. first we will distribute the 30 to left two missing values (10, 10, 10, _, _, _, 50, _, _)\n",
        "    b. now distribute the sum (10+50) missing values in between (10, 10, 12, 12, 12, 12, 12, _, _) \n",
        "    c. now we will distribute 12 to right side missing values (10, 10, 12, 12, 12, 12, 4, 4, 4)\n",
        "</pre>\n",
        "for a given string with comma seprate values, which will have both missing values numbers like ex: \"_, _, x, _, _, _\"\n",
        "you need fill the missing values\n",
        "\n",
        "Q: your program reads a string like ex: \"_, _, x, _, _, _\" and returns the filled sequence\n",
        "\n",
        "Ex: \n",
        "<pre>\n",
        "Input1: \"_,_,_,24\"\n",
        "Output1: 6,6,6,6\n",
        "\n",
        "Input2: \"40,_,_,_,60\"\n",
        "Output2: 20,20,20,20,20\n",
        "\n",
        "Input3: \"80,_,_,_,_\"\n",
        "Output3: 16,16,16,16,16\n",
        "\n",
        "Input4: \"_,_,30,_,_,_,50,_,_\"\n",
        "Output4: 10,10,12,12,12,12,4,4,4\n",
        "</pre>\n",
        "\n"
      ]
    },
    {
      "cell_type": "code",
      "execution_count": 9,
      "metadata": {
        "colab": {
          "base_uri": "https://localhost:8080/"
        },
        "id": "nZmpzHs_B-k-",
        "outputId": "cca5ced9-78c4-4824-829e-e9c6af7681c0"
      },
      "outputs": [
        {
          "output_type": "stream",
          "name": "stdout",
          "text": [
            "[10.0, 10.0, 12.0, 12.0, 12.0, 12.0, 4.0, 4.0, 4.0]\n"
          ]
        }
      ],
      "source": [
        "# write your python code here\n",
        "# you can take the above example as sample input for your program to test\n",
        "# it should work for any general input try not to hard code for only given input strings\n",
        "\n",
        "\n",
        "# you can free to change all these codes/structure\n",
        "def curve_smoothing(s):\n",
        "  \n",
        "    a=s.split(\",\")\n",
        "    l=len(a)\n",
        "    if a[0]==\"_\":\n",
        "      # converting 3 cases into single case\n",
        "        a[0]=\"0\"  \n",
        "\n",
        "    if a[l-1]==\"_\":\n",
        "        a[l-1]=\"0\"\n",
        "\n",
        "    first=a[0]\n",
        "    start=1\n",
        "\n",
        "    for i in range(start,l):\n",
        "        if a[i]!=\"_\":\n",
        "            k=i\n",
        "            for j in range(start-1,k+1) :\n",
        "                a[j]=(int(first)+int(a[i]))/int((k-start+2))\n",
        "            start=k+1\n",
        "            first=a[k]\n",
        "\n",
        "    return a\n",
        "\n",
        "S=  \"_,_,30,_,_,_,50,_,_\"\n",
        "smoothed_values= curve_smoothing(S)\n",
        "print(smoothed_values)"
      ]
    },
    {
      "cell_type": "code",
      "source": [
        "S=  \"_,_,_,24\"\n",
        "smoothed_values= curve_smoothing(S)\n",
        "print(smoothed_values)"
      ],
      "metadata": {
        "colab": {
          "base_uri": "https://localhost:8080/"
        },
        "id": "-RwLKu5WfZwy",
        "outputId": "ac5cd0d1-825a-41f6-b11f-85821fa416e2"
      },
      "execution_count": 11,
      "outputs": [
        {
          "output_type": "stream",
          "name": "stdout",
          "text": [
            "[6.0, 6.0, 6.0, 6.0]\n"
          ]
        }
      ]
    },
    {
      "cell_type": "code",
      "source": [
        "S=  \"40,_,_,_,60\"\n",
        "smoothed_values= curve_smoothing(S)\n",
        "print(smoothed_values)"
      ],
      "metadata": {
        "colab": {
          "base_uri": "https://localhost:8080/"
        },
        "id": "aLxbENubgPHk",
        "outputId": "50014bae-3a0d-41a5-9d73-28e07aec82e1"
      },
      "execution_count": 12,
      "outputs": [
        {
          "output_type": "stream",
          "name": "stdout",
          "text": [
            "[20.0, 20.0, 20.0, 20.0, 20.0]\n"
          ]
        }
      ]
    },
    {
      "cell_type": "code",
      "source": [
        "S=  \"80,_,_,_,_\"\n",
        "smoothed_values= curve_smoothing(S)\n",
        "print(smoothed_values)"
      ],
      "metadata": {
        "colab": {
          "base_uri": "https://localhost:8080/"
        },
        "id": "_rda3KkGgPv3",
        "outputId": "35d6a267-926f-4218-e901-566c41c4a306"
      },
      "execution_count": 13,
      "outputs": [
        {
          "output_type": "stream",
          "name": "stdout",
          "text": [
            "[16.0, 16.0, 16.0, 16.0, 16.0]\n"
          ]
        }
      ]
    },
    {
      "cell_type": "markdown",
      "metadata": {
        "id": "RBz4pzlfB-lB"
      },
      "source": [
        "<h3> Q8: Filling the missing values in the specified formate</h3>\n",
        "You will be given a list of lists, each sublist will be of length 2 i.e. [[x,y],[p,q],[l,m]..[r,s]]\n",
        "consider its like a martrix of n rows and two columns\n",
        "1. the first column F will contain only 5 uniques values (F1, F2, F3, F4, F5)\n",
        "2. the second column S will contain only 3 uniques values (S1, S2, S3)\n",
        "<pre>\n",
        "your task is to find\n",
        "a. Probability of P(F=F1|S==S1), P(F=F1|S==S2), P(F=F1|S==S3)\n",
        "b. Probability of P(F=F2|S==S1), P(F=F2|S==S2), P(F=F2|S==S3)\n",
        "c. Probability of P(F=F3|S==S1), P(F=F3|S==S2), P(F=F3|S==S3)\n",
        "d. Probability of P(F=F4|S==S1), P(F=F4|S==S2), P(F=F4|S==S3)\n",
        "e. Probability of P(F=F5|S==S1), P(F=F5|S==S2), P(F=F5|S==S3)\n",
        "</pre>\n",
        "Ex:\n",
        "\n",
        "<pre>\n",
        "[[F1,S1],[F2,S2],[F3,S3],[F1,S2],[F2,S3],[F3,S2],[F2,S1],[F4,S1],[F4,S3],[F5,S1]]\n",
        "\n",
        "a. P(F=F1|S==S1)=1/4, P(F=F1|S==S2)=1/3, P(F=F1|S==S3)=0/3\n",
        "b. P(F=F2|S==S1)=1/4, P(F=F2|S==S2)=1/3, P(F=F2|S==S3)=1/3\n",
        "c. P(F=F3|S==S1)=0/4, P(F=F3|S==S2)=1/3, P(F=F3|S==S3)=1/3\n",
        "d. P(F=F4|S==S1)=1/4, P(F=F4|S==S2)=0/3, P(F=F4|S==S3)=1/3\n",
        "e. P(F=F5|S==S1)=1/4, P(F=F5|S==S2)=0/3, P(F=F5|S==S3)=0/3\n",
        "</pre>\n",
        "\n",
        "\n"
      ]
    },
    {
      "cell_type": "code",
      "execution_count": null,
      "metadata": {
        "colab": {
          "base_uri": "https://localhost:8080/"
        },
        "id": "e-1giz1MB-lC",
        "outputId": "8adcdb27-f1c6-45c0-d4cf-8cf60e885054"
      },
      "outputs": [
        {
          "name": "stdout",
          "output_type": "stream",
          "text": [
            "==================================================\n",
            "probability of p(F=F1|S=S2) = 0.3333333333333333\n",
            "probability of p(F=F1|S=S1) = 0.25\n",
            "probability of p(F=F1|S=S3) = 0.0\n",
            "==================================================\n",
            "probability of p(F=F2|S=S2) = 0.3333333333333333\n",
            "probability of p(F=F2|S=S1) = 0.25\n",
            "probability of p(F=F2|S=S3) = 0.3333333333333333\n",
            "==================================================\n",
            "probability of p(F=F3|S=S2) = 0.3333333333333333\n",
            "probability of p(F=F3|S=S1) = 0.0\n",
            "probability of p(F=F3|S=S3) = 0.3333333333333333\n",
            "==================================================\n",
            "probability of p(F=F1|S=S2) = 0.3333333333333333\n",
            "probability of p(F=F1|S=S1) = 0.25\n",
            "probability of p(F=F1|S=S3) = 0.0\n",
            "==================================================\n",
            "probability of p(F=F2|S=S2) = 0.3333333333333333\n",
            "probability of p(F=F2|S=S1) = 0.25\n",
            "probability of p(F=F2|S=S3) = 0.3333333333333333\n",
            "==================================================\n",
            "probability of p(F=F3|S=S2) = 0.3333333333333333\n",
            "probability of p(F=F3|S=S1) = 0.0\n",
            "probability of p(F=F3|S=S3) = 0.3333333333333333\n",
            "==================================================\n",
            "probability of p(F=F2|S=S2) = 0.3333333333333333\n",
            "probability of p(F=F2|S=S1) = 0.25\n",
            "probability of p(F=F2|S=S3) = 0.3333333333333333\n",
            "==================================================\n",
            "probability of p(F=F4|S=S2) = 0.0\n",
            "probability of p(F=F4|S=S1) = 0.25\n",
            "probability of p(F=F4|S=S3) = 0.3333333333333333\n",
            "==================================================\n",
            "probability of p(F=F4|S=S2) = 0.0\n",
            "probability of p(F=F4|S=S1) = 0.25\n",
            "probability of p(F=F4|S=S3) = 0.3333333333333333\n",
            "==================================================\n",
            "probability of p(F=F5|S=S2) = 0.0\n",
            "probability of p(F=F5|S=S1) = 0.25\n",
            "probability of p(F=F5|S=S3) = 0.0\n"
          ]
        }
      ],
      "source": [
        "def compute_conditional_probabilites(a):\n",
        "    f=[]\n",
        "    s=[]\n",
        "    m=[]\n",
        "    for i in a:\n",
        "        f.append(i[0])\n",
        "        s.append((i[1]))\n",
        "    \n",
        "    #creatinf sets of F and S\n",
        "    s=set(s)\n",
        "    s=list(s)\n",
        "\n",
        "    #creating dictionaries of F and S\n",
        "    for k in f:\n",
        "        for j in range (0,len(s)):\n",
        "            m.append(k+s[j])\n",
        "        mydict1 = {k:0 for k in m}\n",
        "    \n",
        "    for k in s:\n",
        "        mydict2={k:0 for k in s}\n",
        "    \n",
        "    #https://stackoverflow.com/questions/57160252/find-conditional-probabilities-using-python\n",
        "    for i in range(len(a)):\n",
        "        k = a[i][0] + a[i][1]    \n",
        "        mydict1[k] += 1          \n",
        "        mydict2[a[i][1]] += 1\n",
        "    \n",
        "\n",
        "    for i in f:\n",
        "        print(\"=\"*50)\n",
        "        for j in s:\n",
        "            print(f\"probability of p(F={i}|S={j}) = {mydict1[str(i+j)]/mydict2[j]}\")\n",
        "\n",
        "a = [['F1', 'S1'], ['F2', 'S2'], ['F3', 'S3'], ['F1', 'S2'], ['F2', 'S3'], ['F3', 'S2'], ['F2', 'S1'], ['F4', 'S1'], ['F4', 'S3'], ['F5', 'S1']]\n",
        "compute_conditional_probabilites(a) "
      ]
    },
    {
      "cell_type": "markdown",
      "metadata": {
        "id": "n4HS87QmB-lF"
      },
      "source": [
        "<h3> Q9: Given two sentances S1, S2</h3>\n",
        "You will be given two sentances S1, S2 your task is to find \n",
        "<pre>\n",
        "a. Number of common words between S1, S2\n",
        "b. Words in S1 but not in S2\n",
        "c. Words in S2 but not in S1\n",
        "</pre>\n",
        "\n",
        "Ex: \n",
        "<pre>\n",
        "S1= \"the first column F will contain only 5 uniques values\"\n",
        "S2= \"the second column S will contain only 3 uniques values\"\n",
        "Output:\n",
        "a. 7\n",
        "b. ['first','F','5']\n",
        "c. ['second','S','3']\n",
        "</pre>"
      ]
    },
    {
      "cell_type": "code",
      "execution_count": 19,
      "metadata": {
        "colab": {
          "base_uri": "https://localhost:8080/"
        },
        "id": "Ez7hlHK0B-lG",
        "outputId": "f71bbc0d-e95b-4396-98cd-44ea5ac26fb8"
      },
      "outputs": [
        {
          "output_type": "stream",
          "name": "stdout",
          "text": [
            "7\n",
            "['5', 'F', 'first']\n",
            "['second', 'S', '3']\n"
          ]
        }
      ],
      "source": [
        "\n",
        "def string_features(s1, s2):\n",
        "\n",
        "    #getting unique words\n",
        "    set1=set(s1.split())\n",
        "    set2=set(s2.split())\n",
        "\n",
        "    # a.Number of common words between S1, S2\n",
        "    a=len(set1 & set2)\n",
        "\n",
        "    # b. Words in S1 but not in S2\n",
        "    b=list(set1 - set2)\n",
        "\n",
        "    # c. Words in S2 but not in S1\n",
        "    c=list(set2 - set1)\n",
        "\n",
        "    return a,b,c\n",
        "\n",
        "s1= \"the first column F will contain only 5 uniques values\"\n",
        "s2= \"the second column S will contain only 3 uniques values\"\n",
        "a,b,c=string_features(s1, s2)\n",
        "print(a)\n",
        "print(b)\n",
        "print(c)"
      ]
    },
    {
      "cell_type": "markdown",
      "metadata": {
        "id": "XefXVEjCB-lI"
      },
      "source": [
        "<h3> Q10: Given two sentances S1, S2</h3>\n",
        "You will be given a list of lists, each sublist will be of length 2 i.e. [[x,y],[p,q],[l,m]..[r,s]]\n",
        "consider its like a martrix of n rows and two columns\n",
        "\n",
        "a. the first column Y will contain interger values <br>\n",
        "b. the second column $Y_{score}$ will be having float values <br>\n",
        "Your task is to find the value of $f(Y,Y_{score}) = -1*\\frac{1}{n}\\Sigma_{for each Y,Y_{score} pair}(Ylog10(Y_{score})+(1-Y)log10(1-Y_{score}))$ here n is the number of rows in the matrix\n",
        "<pre>\n",
        "Ex:\n",
        "[[1, 0.4], [0, 0.5], [0, 0.9], [0, 0.3], [0, 0.6], [1, 0.1], [1, 0.9], [1, 0.8]]\n",
        "output:\n",
        "0.4243099\n",
        "</pre>\n",
        "$\\frac{-1}{8}\\cdot((1\\cdot log_{10}(0.4)+0\\cdot log_{10}(0.6))+(0\\cdot log_{10}(0.5)+1\\cdot log_{10}(0.5)) + ... + (1\\cdot log_{10}(0.8)+0\\cdot log_{10}(0.2)) )$"
      ]
    },
    {
      "cell_type": "code",
      "execution_count": 18,
      "metadata": {
        "colab": {
          "base_uri": "https://localhost:8080/"
        },
        "id": "N9zkagyNB-lJ",
        "outputId": "8c40e056-68ec-47d1-8194-048918e8e252"
      },
      "outputs": [
        {
          "output_type": "stream",
          "name": "stdout",
          "text": [
            "Loss =  0.42430993457031635\n"
          ]
        }
      ],
      "source": [
        "from math import *\n",
        "\n",
        "def compute_log_loss(A):\n",
        "  sum=0\n",
        "  n = len(A)\n",
        "  for i in A:\n",
        "    y = i[0]\n",
        "    s = i[1]\n",
        "\n",
        "    #loss for each point\n",
        "    l = y*log10(s) + (1-y)*log10(1-s)\n",
        "    sum+=l\n",
        "\n",
        "  #overall loss\n",
        "  loss = -1 * (sum/n)\n",
        "  return loss\n",
        "\n",
        "A = [[1, 0.4], [0, 0.5], [0, 0.9], [0, 0.3], [0, 0.6], [1, 0.1], [1, 0.9], [1, 0.8]]\n",
        "loss = compute_log_loss(A)\n",
        "print('Loss = ',loss)"
      ]
    }
  ],
  "metadata": {
    "colab": {
      "collapsed_sections": [],
      "name": "Akshay_Python__Assignment.ipynb",
      "provenance": []
    },
    "kernelspec": {
      "display_name": "Python 3",
      "language": "python",
      "name": "python3"
    },
    "language_info": {
      "codemirror_mode": {
        "name": "ipython",
        "version": 3
      },
      "file_extension": ".py",
      "mimetype": "text/x-python",
      "name": "python",
      "nbconvert_exporter": "python",
      "pygments_lexer": "ipython3",
      "version": "3.9.2"
    },
    "toc": {
      "base_numbering": 1,
      "nav_menu": {},
      "number_sections": true,
      "sideBar": true,
      "skip_h1_title": false,
      "title_cell": "Table of Contents",
      "title_sidebar": "Contents",
      "toc_cell": false,
      "toc_position": {},
      "toc_section_display": true,
      "toc_window_display": false
    }
  },
  "nbformat": 4,
  "nbformat_minor": 0
}
